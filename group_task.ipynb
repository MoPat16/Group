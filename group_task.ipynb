{
 "cells": [
  {
   "cell_type": "markdown",
   "metadata": {},
   "source": [
    "# The group task"
   ]
  },
  {
   "cell_type": "markdown",
   "metadata": {},
   "source": [
    "- Loading packages"
   ]
  },
  {
   "cell_type": "code",
   "execution_count": 20,
   "metadata": {},
   "outputs": [],
   "source": [
    "import numpy as np\n",
    "from scipy.stats import norm\n",
    "import pandas as pd\n",
    "import matplotlib.pyplot as plt\n",
    "import pyreadstat\n",
    "# To display the graphs here\n",
    "%matplotlib inline"
   ]
  },
  {
   "cell_type": "markdown",
   "metadata": {},
   "source": [
    "- Importing the data"
   ]
  },
  {
   "cell_type": "code",
   "execution_count": 24,
   "metadata": {},
   "outputs": [
    {
     "ename": "ReadstatError",
     "evalue": "Unable to open file",
     "output_type": "error",
     "traceback": [
      "\u001b[0;31m---------------------------------------------------------------------------\u001b[0m",
      "\u001b[0;31mReadstatError\u001b[0m                             Traceback (most recent call last)",
      "\u001b[0;32m<ipython-input-24-cc5c5c413651>\u001b[0m in \u001b[0;36m<module>\u001b[0;34m\u001b[0m\n\u001b[1;32m      3\u001b[0m \u001b[0mdistrict_codes\u001b[0m \u001b[0;34m=\u001b[0m \u001b[0mpd\u001b[0m\u001b[0;34m.\u001b[0m\u001b[0mread_csv\u001b[0m\u001b[0;34m(\u001b[0m\u001b[0;34m\"/Users/nathankhadaroo/Desktop/task/LondonDistrictcodes.csv\"\u001b[0m\u001b[0;34m)\u001b[0m\u001b[0;34m\u001b[0m\u001b[0;34m\u001b[0m\u001b[0m\n\u001b[1;32m      4\u001b[0m \u001b[0mdemo\u001b[0m \u001b[0;34m=\u001b[0m \u001b[0mpd\u001b[0m\u001b[0;34m.\u001b[0m\u001b[0mread_table\u001b[0m\u001b[0;34m(\u001b[0m\u001b[0;34m\"/Users/nathankhadaroo/Desktop/task/London ward data demographics.dat\"\u001b[0m\u001b[0;34m)\u001b[0m\u001b[0;34m\u001b[0m\u001b[0;34m\u001b[0m\u001b[0m\n\u001b[0;32m----> 5\u001b[0;31m \u001b[0msocio\u001b[0m  \u001b[0;34m=\u001b[0m \u001b[0mpyreadstat\u001b[0m\u001b[0;34m.\u001b[0m\u001b[0mread_sav\u001b[0m\u001b[0;34m(\u001b[0m\u001b[0;34m\"/Users/nathankhadaroo/Desktop/task/London ward data demographics/London ward data socioeconomic.sav\"\u001b[0m\u001b[0;34m)\u001b[0m\u001b[0;34m\u001b[0m\u001b[0;34m\u001b[0m\u001b[0m\n\u001b[0m",
      "\u001b[0;32mpyreadstat/pyreadstat.pyx\u001b[0m in \u001b[0;36mpyreadstat.pyreadstat.read_sav\u001b[0;34m()\u001b[0m\n",
      "\u001b[0;32mpyreadstat/_readstat_parser.pyx\u001b[0m in \u001b[0;36mpyreadstat._readstat_parser.run_conversion\u001b[0;34m()\u001b[0m\n",
      "\u001b[0;32mpyreadstat/_readstat_parser.pyx\u001b[0m in \u001b[0;36mpyreadstat._readstat_parser.run_readstat_parser\u001b[0;34m()\u001b[0m\n",
      "\u001b[0;32mpyreadstat/_readstat_parser.pyx\u001b[0m in \u001b[0;36mpyreadstat._readstat_parser.check_exit_status\u001b[0;34m()\u001b[0m\n",
      "\u001b[0;31mReadstatError\u001b[0m: Unable to open file"
     ]
    }
   ],
   "source": [
    "health = pd.read_sas(\"/Users/nathankhadaroo/Desktop/task/london ward data health.sas7bdat\", format='sas7bdat', encoding='latin1')\n",
    "environment = pd.read_csv(\"/Users/nathankhadaroo/Desktop/task/London ward data environment.csv\")\n",
    "district_codes = pd.read_csv(\"/Users/nathankhadaroo/Desktop/task/LondonDistrictcodes.csv\")\n",
    "demo = pd.read_table(\"/Users/nathankhadaroo/Desktop/task/London ward data demographics.dat\")\n",
    "socio  = pyreadstat.read_sav(\"/Users/nathankhadaroo/Desktop/task/London ward data demographics/London ward data socioeconomic.sav\")"
   ]
  },
  {
   "cell_type": "code",
   "execution_count": 29,
   "metadata": {},
   "outputs": [
    {
     "data": {
      "text/html": [
       "<div>\n",
       "<style scoped>\n",
       "    .dataframe tbody tr th:only-of-type {\n",
       "        vertical-align: middle;\n",
       "    }\n",
       "\n",
       "    .dataframe tbody tr th {\n",
       "        vertical-align: top;\n",
       "    }\n",
       "\n",
       "    .dataframe thead th {\n",
       "        text-align: right;\n",
       "    }\n",
       "</style>\n",
       "<table border=\"1\" class=\"dataframe\">\n",
       "  <thead>\n",
       "    <tr style=\"text-align: right;\">\n",
       "      <th></th>\n",
       "      <th>Wardname</th>\n",
       "      <th>Population2011Census</th>\n",
       "      <th>GeneralFertilityRate</th>\n",
       "      <th>Malelifeexpectancy</th>\n",
       "      <th>Femalelifeexpectancy</th>\n",
       "    </tr>\n",
       "  </thead>\n",
       "  <tbody>\n",
       "    <tr>\n",
       "      <th>0</th>\n",
       "      <td>Bromley - Darwin</td>\n",
       "      <td>5110.0</td>\n",
       "      <td>63.8</td>\n",
       "      <td>81.2</td>\n",
       "      <td>82.4</td>\n",
       "    </tr>\n",
       "    <tr>\n",
       "      <th>1</th>\n",
       "      <td>Kensington and Chelsea - Royal Hospital</td>\n",
       "      <td>7252.0</td>\n",
       "      <td>52.3</td>\n",
       "      <td>80.5</td>\n",
       "      <td>89.6</td>\n",
       "    </tr>\n",
       "    <tr>\n",
       "      <th>2</th>\n",
       "      <td>Hillingdon - Harefield</td>\n",
       "      <td>7399.0</td>\n",
       "      <td>55.8</td>\n",
       "      <td>78.3</td>\n",
       "      <td>82.3</td>\n",
       "    </tr>\n",
       "    <tr>\n",
       "      <th>3</th>\n",
       "      <td>Hammersmith and Fulham - Palace Riverside</td>\n",
       "      <td>7483.0</td>\n",
       "      <td>40.0</td>\n",
       "      <td>80.9</td>\n",
       "      <td>89.0</td>\n",
       "    </tr>\n",
       "    <tr>\n",
       "      <th>4</th>\n",
       "      <td>Kensington and Chelsea - Pembridge</td>\n",
       "      <td>7659.0</td>\n",
       "      <td>40.4</td>\n",
       "      <td>82.1</td>\n",
       "      <td>85.7</td>\n",
       "    </tr>\n",
       "  </tbody>\n",
       "</table>\n",
       "</div>"
      ],
      "text/plain": [
       "                                    Wardname  Population2011Census  \\\n",
       "0                           Bromley - Darwin                5110.0   \n",
       "1    Kensington and Chelsea - Royal Hospital                7252.0   \n",
       "2                     Hillingdon - Harefield                7399.0   \n",
       "3  Hammersmith and Fulham - Palace Riverside                7483.0   \n",
       "4         Kensington and Chelsea - Pembridge                7659.0   \n",
       "\n",
       "   GeneralFertilityRate  Malelifeexpectancy  Femalelifeexpectancy  \n",
       "0                  63.8                81.2                  82.4  \n",
       "1                  52.3                80.5                  89.6  \n",
       "2                  55.8                78.3                  82.3  \n",
       "3                  40.0                80.9                  89.0  \n",
       "4                  40.4                82.1                  85.7  "
      ]
     },
     "execution_count": 29,
     "metadata": {},
     "output_type": "execute_result"
    }
   ],
   "source": [
    "health.head()"
   ]
  },
  {
   "cell_type": "code",
   "execution_count": 30,
   "metadata": {},
   "outputs": [
    {
     "data": {
      "text/html": [
       "<div>\n",
       "<style scoped>\n",
       "    .dataframe tbody tr th:only-of-type {\n",
       "        vertical-align: middle;\n",
       "    }\n",
       "\n",
       "    .dataframe tbody tr th {\n",
       "        vertical-align: top;\n",
       "    }\n",
       "\n",
       "    .dataframe thead th {\n",
       "        text-align: right;\n",
       "    }\n",
       "</style>\n",
       "<table border=\"1\" class=\"dataframe\">\n",
       "  <thead>\n",
       "    <tr style=\"text-align: right;\">\n",
       "      <th></th>\n",
       "      <th>Wardcode</th>\n",
       "      <th>Population2011Census</th>\n",
       "      <th>Crimerate</th>\n",
       "      <th>Openspace</th>\n",
       "    </tr>\n",
       "  </thead>\n",
       "  <tbody>\n",
       "    <tr>\n",
       "      <th>0</th>\n",
       "      <td>00ANGQ</td>\n",
       "      <td>11201</td>\n",
       "      <td>117.7</td>\n",
       "      <td>0.0</td>\n",
       "    </tr>\n",
       "    <tr>\n",
       "      <th>1</th>\n",
       "      <td>00ANGA</td>\n",
       "      <td>11518</td>\n",
       "      <td>114.0</td>\n",
       "      <td>0.3</td>\n",
       "    </tr>\n",
       "    <tr>\n",
       "      <th>2</th>\n",
       "      <td>00ADGN</td>\n",
       "      <td>10800</td>\n",
       "      <td>44.2</td>\n",
       "      <td>0.7</td>\n",
       "    </tr>\n",
       "    <tr>\n",
       "      <th>3</th>\n",
       "      <td>00BEGH</td>\n",
       "      <td>12321</td>\n",
       "      <td>65.3</td>\n",
       "      <td>0.7</td>\n",
       "    </tr>\n",
       "    <tr>\n",
       "      <th>4</th>\n",
       "      <td>00BCFZ</td>\n",
       "      <td>12609</td>\n",
       "      <td>64.3</td>\n",
       "      <td>1.3</td>\n",
       "    </tr>\n",
       "  </tbody>\n",
       "</table>\n",
       "</div>"
      ],
      "text/plain": [
       "  Wardcode  Population2011Census  Crimerate  Openspace\n",
       "0   00ANGQ                 11201      117.7        0.0\n",
       "1   00ANGA                 11518      114.0        0.3\n",
       "2   00ADGN                 10800       44.2        0.7\n",
       "3   00BEGH                 12321       65.3        0.7\n",
       "4   00BCFZ                 12609       64.3        1.3"
      ]
     },
     "execution_count": 30,
     "metadata": {},
     "output_type": "execute_result"
    }
   ],
   "source": [
    "environment.head()"
   ]
  },
  {
   "cell_type": "code",
   "execution_count": 31,
   "metadata": {},
   "outputs": [
    {
     "data": {
      "text/html": [
       "<div>\n",
       "<style scoped>\n",
       "    .dataframe tbody tr th:only-of-type {\n",
       "        vertical-align: middle;\n",
       "    }\n",
       "\n",
       "    .dataframe tbody tr th {\n",
       "        vertical-align: top;\n",
       "    }\n",
       "\n",
       "    .dataframe thead th {\n",
       "        text-align: right;\n",
       "    }\n",
       "</style>\n",
       "<table border=\"1\" class=\"dataframe\">\n",
       "  <thead>\n",
       "    <tr style=\"text-align: right;\">\n",
       "      <th></th>\n",
       "      <th>District</th>\n",
       "      <th>Districtcode</th>\n",
       "    </tr>\n",
       "  </thead>\n",
       "  <tbody>\n",
       "    <tr>\n",
       "      <th>0</th>\n",
       "      <td>Barking and Dagenham</td>\n",
       "      <td>00AB</td>\n",
       "    </tr>\n",
       "    <tr>\n",
       "      <th>1</th>\n",
       "      <td>Barnet</td>\n",
       "      <td>00AC</td>\n",
       "    </tr>\n",
       "    <tr>\n",
       "      <th>2</th>\n",
       "      <td>Bexley</td>\n",
       "      <td>00AD</td>\n",
       "    </tr>\n",
       "    <tr>\n",
       "      <th>3</th>\n",
       "      <td>Brent</td>\n",
       "      <td>00AE</td>\n",
       "    </tr>\n",
       "    <tr>\n",
       "      <th>4</th>\n",
       "      <td>Bromley</td>\n",
       "      <td>00AF</td>\n",
       "    </tr>\n",
       "  </tbody>\n",
       "</table>\n",
       "</div>"
      ],
      "text/plain": [
       "               District Districtcode\n",
       "0  Barking and Dagenham         00AB\n",
       "1                Barnet         00AC\n",
       "2                Bexley         00AD\n",
       "3                 Brent         00AE\n",
       "4               Bromley         00AF"
      ]
     },
     "execution_count": 31,
     "metadata": {},
     "output_type": "execute_result"
    }
   ],
   "source": [
    "district_codes.head()"
   ]
  },
  {
   "cell_type": "code",
   "execution_count": 32,
   "metadata": {},
   "outputs": [
    {
     "data": {
      "text/html": [
       "<div>\n",
       "<style scoped>\n",
       "    .dataframe tbody tr th:only-of-type {\n",
       "        vertical-align: middle;\n",
       "    }\n",
       "\n",
       "    .dataframe tbody tr th {\n",
       "        vertical-align: top;\n",
       "    }\n",
       "\n",
       "    .dataframe thead th {\n",
       "        text-align: right;\n",
       "    }\n",
       "</style>\n",
       "<table border=\"1\" class=\"dataframe\">\n",
       "  <thead>\n",
       "    <tr style=\"text-align: right;\">\n",
       "      <th></th>\n",
       "      <th>Wardname</th>\n",
       "      <th>Children</th>\n",
       "      <th>Greaterthan65</th>\n",
       "      <th>nonwhite</th>\n",
       "      <th>NotBorninUK</th>\n",
       "      <th>NotEnglishspeaking</th>\n",
       "    </tr>\n",
       "  </thead>\n",
       "  <tbody>\n",
       "    <tr>\n",
       "      <th>0</th>\n",
       "      <td>Hackney - Queensbridge</td>\n",
       "      <td>17.542063</td>\n",
       "      <td>8.2</td>\n",
       "      <td>44.7</td>\n",
       "      <td>38.3</td>\n",
       "      <td>11.8</td>\n",
       "    </tr>\n",
       "    <tr>\n",
       "      <th>1</th>\n",
       "      <td>Hammersmith &amp; Fulham - S&amp;s End</td>\n",
       "      <td>17.915361</td>\n",
       "      <td>8.4</td>\n",
       "      <td>30.6</td>\n",
       "      <td>39.0</td>\n",
       "      <td>11.8</td>\n",
       "    </tr>\n",
       "    <tr>\n",
       "      <th>2</th>\n",
       "      <td>Barking &amp; Dagenham - River</td>\n",
       "      <td>26.851598</td>\n",
       "      <td>10.1</td>\n",
       "      <td>38.4</td>\n",
       "      <td>30.9</td>\n",
       "      <td>9.6</td>\n",
       "    </tr>\n",
       "    <tr>\n",
       "      <th>3</th>\n",
       "      <td>Tower Hamlets - Bethnal Green North</td>\n",
       "      <td>18.555872</td>\n",
       "      <td>7.0</td>\n",
       "      <td>49.4</td>\n",
       "      <td>38.7</td>\n",
       "      <td>15.0</td>\n",
       "    </tr>\n",
       "    <tr>\n",
       "      <th>4</th>\n",
       "      <td>Merton - Abbey</td>\n",
       "      <td>15.731861</td>\n",
       "      <td>8.5</td>\n",
       "      <td>26.6</td>\n",
       "      <td>38.3</td>\n",
       "      <td>12.5</td>\n",
       "    </tr>\n",
       "  </tbody>\n",
       "</table>\n",
       "</div>"
      ],
      "text/plain": [
       "                              Wardname   Children  Greaterthan65  nonwhite  \\\n",
       "0               Hackney - Queensbridge  17.542063            8.2      44.7   \n",
       "1       Hammersmith & Fulham - S&s End  17.915361            8.4      30.6   \n",
       "2           Barking & Dagenham - River  26.851598           10.1      38.4   \n",
       "3  Tower Hamlets - Bethnal Green North  18.555872            7.0      49.4   \n",
       "4                       Merton - Abbey  15.731861            8.5      26.6   \n",
       "\n",
       "   NotBorninUK  NotEnglishspeaking  \n",
       "0         38.3                11.8  \n",
       "1         39.0                11.8  \n",
       "2         30.9                 9.6  \n",
       "3         38.7                15.0  \n",
       "4         38.3                12.5  "
      ]
     },
     "execution_count": 32,
     "metadata": {},
     "output_type": "execute_result"
    }
   ],
   "source": [
    "demo.head()"
   ]
  },
  {
   "cell_type": "code",
   "execution_count": null,
   "metadata": {},
   "outputs": [],
   "source": []
  }
 ],
 "metadata": {
  "kernelspec": {
   "display_name": "Python 3",
   "language": "python",
   "name": "python3"
  },
  "language_info": {
   "codemirror_mode": {
    "name": "ipython",
    "version": 3
   },
   "file_extension": ".py",
   "mimetype": "text/x-python",
   "name": "python",
   "nbconvert_exporter": "python",
   "pygments_lexer": "ipython3",
   "version": "3.7.1"
  }
 },
 "nbformat": 4,
 "nbformat_minor": 2
}
